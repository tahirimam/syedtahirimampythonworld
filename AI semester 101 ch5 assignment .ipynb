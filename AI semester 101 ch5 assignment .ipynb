{
 "cells": [
  {
   "cell_type": "code",
   "execution_count": 2,
   "metadata": {
    "collapsed": true
   },
   "outputs": [],
   "source": [
    "# Asssignment AI semister 101\n",
    "# From book Python crash course chapter 5\n",
    "#5-3.Alien Colors #1: Imagine an alien was just shot down in a game. Create a\n",
    "# variable called alien_color and assign it a value of 'green', 'yellow', or 'red'.\n",
    "# • Write an if statement to test whether the alien’s color is green. If it is, print\n",
    "# a message that the player just earned 5 points.\n",
    "# • Write one version of this program that passes the if test and another that\n",
    "# fails. (The version that fails will have no output.) "
   ]
  },
  {
   "cell_type": "code",
   "execution_count": 3,
   "metadata": {
    "collapsed": true
   },
   "outputs": [],
   "source": [
    "#Method 1\n",
    "def test_color(color):\n",
    "    if color=='green':\n",
    "        print(\"You earned 5 points\")"
   ]
  },
  {
   "cell_type": "code",
   "execution_count": 4,
   "metadata": {},
   "outputs": [
    {
     "name": "stdout",
     "output_type": "stream",
     "text": [
      "You earned 5 points\n"
     ]
    }
   ],
   "source": [
    "alien_color= 'green'\n",
    "test_color(alien_color)"
   ]
  },
  {
   "cell_type": "code",
   "execution_count": 5,
   "metadata": {
    "collapsed": true
   },
   "outputs": [],
   "source": [
    "alien_color = 'yellow'\n",
    "test_color(alien_color)"
   ]
  },
  {
   "cell_type": "code",
   "execution_count": 6,
   "metadata": {},
   "outputs": [
    {
     "name": "stdout",
     "output_type": "stream",
     "text": [
      "What is the alien color?\n",
      "green\n",
      "The player earned 5 points\n"
     ]
    }
   ],
   "source": [
    "#Method 2\n",
    "alien_color= 'green'\n",
    "print('What is the alien color?')\n",
    "print(alien_color)\n",
    "if(alien_color=='green'):\n",
    "    print('The player earned 5 points')"
   ]
  },
  {
   "cell_type": "code",
   "execution_count": 8,
   "metadata": {},
   "outputs": [],
   "source": [
    "alien_color= 'red'\n"
   ]
  },
  {
   "cell_type": "code",
   "execution_count": null,
   "metadata": {
    "collapsed": true
   },
   "outputs": [],
   "source": []
  },
  {
   "cell_type": "code",
   "execution_count": 9,
   "metadata": {
    "collapsed": true
   },
   "outputs": [],
   "source": [
    "# 5-4. Alien Colors #2: Choose a color for an alien as you did in Exercise 5-3, and\n",
    "# write an if-else chain.\n",
    "# • If the alien’s color is green, print a statement that the player just earned\n",
    "# 5 points for shooting the alien.\n",
    "# • If the alien’s color isn’t green, print a statement that the player just earned\n",
    "# 10 points.\n",
    "# • Write one version of this program that runs the if block and another that\n",
    "# runs the else block."
   ]
  },
  {
   "cell_type": "code",
   "execution_count": 10,
   "metadata": {
    "collapsed": true
   },
   "outputs": [],
   "source": [
    "\n",
    "def test_color(color):\n",
    "    if color=='green':\n",
    "        print(\"You earned 5 points\")\n",
    "    else:\n",
    "        print(\"You earned 10 points\")"
   ]
  },
  {
   "cell_type": "code",
   "execution_count": 11,
   "metadata": {},
   "outputs": [
    {
     "name": "stdout",
     "output_type": "stream",
     "text": [
      "You earned 5 points\n"
     ]
    }
   ],
   "source": [
    "alien_color= 'green'\n",
    "test_color(alien_color)"
   ]
  },
  {
   "cell_type": "code",
   "execution_count": 12,
   "metadata": {},
   "outputs": [
    {
     "name": "stdout",
     "output_type": "stream",
     "text": [
      "You earned 10 points\n"
     ]
    }
   ],
   "source": [
    "alien_color = 'white'\n",
    "test_color(alien_color)"
   ]
  },
  {
   "cell_type": "code",
   "execution_count": null,
   "metadata": {},
   "outputs": [],
   "source": []
  },
  {
   "cell_type": "code",
   "execution_count": 19,
   "metadata": {
    "collapsed": true
   },
   "outputs": [],
   "source": [
    "# 5-5. Alien Colors #3: Turn your if-else chain from Exercise 5-4 into an if-elifelse\n",
    "# chain.\n",
    "# • If the alien is green, print a message that the player earned 5 points.\n",
    "# • If the alien is yellow, print a message that the player earned 10 points.\n",
    "# • If the alien is red, print a message that the player earned 15 points.\n",
    "# • Write three versions of this program, making sure each message is printed\n",
    "# for the appropriate color alien."
   ]
  },
  {
   "cell_type": "code",
   "execution_count": 20,
   "metadata": {
    "collapsed": true
   },
   "outputs": [],
   "source": [
    "def test_color(color):\n",
    "    if color=='green':\n",
    "        print(\"You earned 5 points\")\n",
    "    elif color=='yellow':\n",
    "        print(\"You earned 10 points\")\n",
    "    else:\n",
    "        print(\"You earned 15 points\")"
   ]
  },
  {
   "cell_type": "code",
   "execution_count": 21,
   "metadata": {},
   "outputs": [
    {
     "name": "stdout",
     "output_type": "stream",
     "text": [
      "You earned 5 points\n"
     ]
    }
   ],
   "source": [
    "alien_color= 'green'\n",
    "test_color(alien_color)"
   ]
  },
  {
   "cell_type": "code",
   "execution_count": 22,
   "metadata": {},
   "outputs": [
    {
     "name": "stdout",
     "output_type": "stream",
     "text": [
      "You earned 10 points\n"
     ]
    }
   ],
   "source": [
    "alien_color = 'yellow'\n",
    "test_color(alien_color)"
   ]
  },
  {
   "cell_type": "code",
   "execution_count": 23,
   "metadata": {},
   "outputs": [
    {
     "name": "stdout",
     "output_type": "stream",
     "text": [
      "You earned 15 points\n"
     ]
    }
   ],
   "source": [
    "alien_color = 'red'\n",
    "test_color(alien_color)"
   ]
  },
  {
   "cell_type": "code",
   "execution_count": null,
   "metadata": {
    "collapsed": true
   },
   "outputs": [],
   "source": []
  },
  {
   "cell_type": "code",
   "execution_count": 24,
   "metadata": {
    "collapsed": true
   },
   "outputs": [],
   "source": [
    "# 5-6. Stages of Life: Write an if-elif-else chain that determines a person’s\n",
    "# stage of life. Set a value for the variable age, and then:\n",
    "# • If the person is less than 2 years old, print a message that the person is\n",
    "# a baby.\n",
    "# • If the person is at least 2 years old but less than 4, print a message that\n",
    "# the person is a toddler.\n",
    "# • If the person is at least 4 years old but less than 13, print a message that\n",
    "# the person is a kid.\n",
    "# • If the person is at least 13 years old but less than 20, print a message that\n",
    "# the person is a teenager.\n",
    "# • If the person is at least 20 years old but less than 65, print a message that\n",
    "# the person is an adult.\n",
    "# • If the person is age 65 or older, print a message that the person is an\n",
    "# elder."
   ]
  },
  {
   "cell_type": "code",
   "execution_count": 27,
   "metadata": {},
   "outputs": [
    {
     "name": "stdout",
     "output_type": "stream",
     "text": [
      "Enter age: 66\n",
      "The person is a elder.\n"
     ]
    }
   ],
   "source": [
    "age = int(input(\"Enter age: \"))\n",
    "message = \"The person is a \"\n",
    "if age>=2 and age<4:\n",
    "    message+=\"toddler.\"\n",
    "elif age>=4 and age<13:\n",
    "    message+=\"kid.\"\n",
    "elif age>=13 and age<20:\n",
    "    message+=\"teenager.\"\n",
    "elif age>=20 and age<65:\n",
    "    message+=\"adult.\"\n",
    "elif age>65:\n",
    "    message+=\"elder.\"\n",
    "\n",
    "print(message)"
   ]
  },
  {
   "cell_type": "code",
   "execution_count": null,
   "metadata": {
    "collapsed": true
   },
   "outputs": [],
   "source": []
  },
  {
   "cell_type": "code",
   "execution_count": null,
   "metadata": {
    "collapsed": true
   },
   "outputs": [],
   "source": []
  },
  {
   "cell_type": "code",
   "execution_count": null,
   "metadata": {
    "collapsed": true
   },
   "outputs": [],
   "source": []
  },
  {
   "cell_type": "code",
   "execution_count": 18,
   "metadata": {
    "collapsed": true
   },
   "outputs": [],
   "source": []
  },
  {
   "cell_type": "code",
   "execution_count": null,
   "metadata": {
    "collapsed": true
   },
   "outputs": [],
   "source": []
  },
  {
   "cell_type": "code",
   "execution_count": null,
   "metadata": {
    "collapsed": true
   },
   "outputs": [],
   "source": []
  },
  {
   "cell_type": "code",
   "execution_count": null,
   "metadata": {
    "collapsed": true
   },
   "outputs": [],
   "source": []
  },
  {
   "cell_type": "code",
   "execution_count": null,
   "metadata": {
    "collapsed": true
   },
   "outputs": [],
   "source": []
  },
  {
   "cell_type": "code",
   "execution_count": null,
   "metadata": {
    "collapsed": true
   },
   "outputs": [],
   "source": []
  }
 ],
 "metadata": {
  "kernelspec": {
   "display_name": "Python 3",
   "language": "python",
   "name": "python3"
  },
  "language_info": {
   "codemirror_mode": {
    "name": "ipython",
    "version": 3
   },
   "file_extension": ".py",
   "mimetype": "text/x-python",
   "name": "python",
   "nbconvert_exporter": "python",
   "pygments_lexer": "ipython3",
   "version": "3.6.3"
  }
 },
 "nbformat": 4,
 "nbformat_minor": 2
}
